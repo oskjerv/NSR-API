{
 "cells": [
  {
   "cell_type": "code",
   "execution_count": 3,
   "metadata": {},
   "outputs": [],
   "source": [
    "import pandas as pd\n",
    "import matplotlib.pyplot as plt\n",
    "\n",
    "# Local module\n",
    "from nxr_classes import Organisations"
   ]
  },
  {
   "cell_type": "markdown",
   "metadata": {},
   "source": []
  },
  {
   "cell_type": "code",
   "execution_count": 4,
   "metadata": {},
   "outputs": [],
   "source": [
    "nbr = pd.read_excel(\"nbr - alle organisasjoner.xlsx\")"
   ]
  },
  {
   "cell_type": "markdown",
   "metadata": {},
   "source": [
    "#### Nasjonalt barnehageregister (NBR)\n",
    "Udirs beskrivelse av registeret:   \n",
    "\"Data fra Nasjonalt barnehageregister viser enheter fra Virksomhets- og Foretaksregisteret (VoF) som tilhører barnehage sektoren. Barnehagene (bedriftene/virksomhetene) og deres eiere (foretak) skal være avstemt med VoF. NBR viser også informasjon som kommer fra Barnehage-Statistikk-Innsamling-Løsningen (Basil).\"\n",
    "\n",
    "Vi har hentet ut detaljert informasjon om samtlige 14 927 organisasjoner som er registrert i NBR.\n",
    "\n",
    "I registeret er det registrert:\n",
    "- Organisasjonsnummer\n",
    "- Navn\n",
    "- Barnehageeier\n",
    "- Beliggenhet\n",
    "- Kontaktinformasjon (epost, telefon og postadresse)\n",
    "- Målform\n",
    "- Organisasjonsform\n",
    "- Kontaktinformasjon til barnehagestyrer\n",
    "- Antall barn\n",
    "- Antall ansatte\n",
    "- Alderstrinn (fra/til)\n",
    "- Næringskoder\n",
    "- Barnehagekategorier\n",
    "\n",
    "Dette dokumentet går gjennom den mest sentrale informasjon i nbr. "
   ]
  },
  {
   "cell_type": "markdown",
   "metadata": {},
   "source": [
    "##### Aktive og nedlagte barnehager\n",
    "\n",
    "Først og fremst er det verdt å merke seg at NBR består av både aktive og nedlagte organsisasjoner. Tabellen under viser forskjellige status i registeret og hvor mange barnehager som tilhører hver av dem. I NBR er det 9 522 aktive barnehager, eller sagt på registerspråket: Barnehager uten utgåtttype. "
   ]
  },
  {
   "cell_type": "code",
   "execution_count": 13,
   "metadata": {},
   "outputs": [
    {
     "data": {
      "text/plain": [
       "Ingen utgåttype                       9522\n",
       "Slettet                               4715\n",
       "Slettet for sammenslåing               362\n",
       "Utg pga eier mangler aktiv bedrift     174\n",
       "Utg pga næringsendring                 111\n",
       "Slettet for dublett                     42\n",
       "Name: Utgaattype_Navn, dtype: int64"
      ]
     },
     "execution_count": 13,
     "metadata": {},
     "output_type": "execute_result"
    }
   ],
   "source": [
    "nbr['Utgaattype_Navn'].value_counts()"
   ]
  },
  {
   "cell_type": "markdown",
   "metadata": {},
   "source": [
    "Det er også mulig å identifisere nedlagte organisasjoner med kolonnnen `ErAktiv`."
   ]
  },
  {
   "cell_type": "code",
   "execution_count": 14,
   "metadata": {},
   "outputs": [
    {
     "data": {
      "text/html": [
       "<div>\n",
       "<style scoped>\n",
       "    .dataframe tbody tr th:only-of-type {\n",
       "        vertical-align: middle;\n",
       "    }\n",
       "\n",
       "    .dataframe tbody tr th {\n",
       "        vertical-align: top;\n",
       "    }\n",
       "\n",
       "    .dataframe thead th {\n",
       "        text-align: right;\n",
       "    }\n",
       "</style>\n",
       "<table border=\"1\" class=\"dataframe\">\n",
       "  <thead>\n",
       "    <tr style=\"text-align: right;\">\n",
       "      <th>ErAktiv</th>\n",
       "      <th>False</th>\n",
       "      <th>True</th>\n",
       "    </tr>\n",
       "    <tr>\n",
       "      <th>Utgaattype_Navn</th>\n",
       "      <th></th>\n",
       "      <th></th>\n",
       "    </tr>\n",
       "  </thead>\n",
       "  <tbody>\n",
       "    <tr>\n",
       "      <th>Ingen utgåttype</th>\n",
       "      <td>20</td>\n",
       "      <td>9502</td>\n",
       "    </tr>\n",
       "    <tr>\n",
       "      <th>Slettet</th>\n",
       "      <td>4715</td>\n",
       "      <td>0</td>\n",
       "    </tr>\n",
       "    <tr>\n",
       "      <th>Slettet for dublett</th>\n",
       "      <td>42</td>\n",
       "      <td>0</td>\n",
       "    </tr>\n",
       "    <tr>\n",
       "      <th>Slettet for sammenslåing</th>\n",
       "      <td>362</td>\n",
       "      <td>0</td>\n",
       "    </tr>\n",
       "    <tr>\n",
       "      <th>Utg pga eier mangler aktiv bedrift</th>\n",
       "      <td>174</td>\n",
       "      <td>0</td>\n",
       "    </tr>\n",
       "    <tr>\n",
       "      <th>Utg pga næringsendring</th>\n",
       "      <td>111</td>\n",
       "      <td>0</td>\n",
       "    </tr>\n",
       "  </tbody>\n",
       "</table>\n",
       "</div>"
      ],
      "text/plain": [
       "ErAktiv                             False  True \n",
       "Utgaattype_Navn                                 \n",
       "Ingen utgåttype                        20   9502\n",
       "Slettet                              4715      0\n",
       "Slettet for dublett                    42      0\n",
       "Slettet for sammenslåing              362      0\n",
       "Utg pga eier mangler aktiv bedrift    174      0\n",
       "Utg pga næringsendring                111      0"
      ]
     },
     "execution_count": 14,
     "metadata": {},
     "output_type": "execute_result"
    }
   ],
   "source": [
    "pd.crosstab(nbr.Utgaattype_Navn, nbr.ErAktiv)"
   ]
  },
  {
   "cell_type": "markdown",
   "metadata": {},
   "source": [
    "##### Identifisere barnehagene\n",
    "Det er ikke alle organisasjoner i NBR som er en barnehage. 8 806 av organisasjonene er registrert som barnehage, og samtlige av dem står oppført med organisasjonsformen `Bedrift`. Organisasjoner registrert i NBR som ikke er barnehager er ofte barnehageeiere.  "
   ]
  },
  {
   "cell_type": "code",
   "execution_count": 15,
   "metadata": {},
   "outputs": [
    {
     "data": {
      "text/html": [
       "<div>\n",
       "<style scoped>\n",
       "    .dataframe tbody tr th:only-of-type {\n",
       "        vertical-align: middle;\n",
       "    }\n",
       "\n",
       "    .dataframe tbody tr th {\n",
       "        vertical-align: top;\n",
       "    }\n",
       "\n",
       "    .dataframe thead th {\n",
       "        text-align: right;\n",
       "    }\n",
       "</style>\n",
       "<table border=\"1\" class=\"dataframe\">\n",
       "  <thead>\n",
       "    <tr style=\"text-align: right;\">\n",
       "      <th>ErBarnehage</th>\n",
       "      <th>False</th>\n",
       "      <th>True</th>\n",
       "    </tr>\n",
       "    <tr>\n",
       "      <th>Organisasjonsform_Navn</th>\n",
       "      <th></th>\n",
       "      <th></th>\n",
       "    </tr>\n",
       "  </thead>\n",
       "  <tbody>\n",
       "    <tr>\n",
       "      <th>Aksjeselskap</th>\n",
       "      <td>1918</td>\n",
       "      <td>0</td>\n",
       "    </tr>\n",
       "    <tr>\n",
       "      <th>Allment aksjeselskap</th>\n",
       "      <td>1</td>\n",
       "      <td>0</td>\n",
       "    </tr>\n",
       "    <tr>\n",
       "      <th>Annen juridisk person</th>\n",
       "      <td>27</td>\n",
       "      <td>0</td>\n",
       "    </tr>\n",
       "    <tr>\n",
       "      <th>Annet foretak iflg. særskilt lov</th>\n",
       "      <td>35</td>\n",
       "      <td>0</td>\n",
       "    </tr>\n",
       "    <tr>\n",
       "      <th>Ansvarlig selskap</th>\n",
       "      <td>78</td>\n",
       "      <td>0</td>\n",
       "    </tr>\n",
       "    <tr>\n",
       "      <th>Ansvarlig selskap med delt deltakeransvar</th>\n",
       "      <td>136</td>\n",
       "      <td>0</td>\n",
       "    </tr>\n",
       "    <tr>\n",
       "      <th>Bedrift</th>\n",
       "      <td>348</td>\n",
       "      <td>8806</td>\n",
       "    </tr>\n",
       "    <tr>\n",
       "      <th>Borettslag</th>\n",
       "      <td>5</td>\n",
       "      <td>0</td>\n",
       "    </tr>\n",
       "    <tr>\n",
       "      <th>Den norske kirke</th>\n",
       "      <td>90</td>\n",
       "      <td>0</td>\n",
       "    </tr>\n",
       "    <tr>\n",
       "      <th>Enkeltpersonforetak</th>\n",
       "      <td>1261</td>\n",
       "      <td>0</td>\n",
       "    </tr>\n",
       "    <tr>\n",
       "      <th>Forening/lag/innretning</th>\n",
       "      <td>366</td>\n",
       "      <td>0</td>\n",
       "    </tr>\n",
       "    <tr>\n",
       "      <th>Fylkeskommune</th>\n",
       "      <td>28</td>\n",
       "      <td>0</td>\n",
       "    </tr>\n",
       "    <tr>\n",
       "      <th>Ingen enhetstype</th>\n",
       "      <td>3</td>\n",
       "      <td>0</td>\n",
       "    </tr>\n",
       "    <tr>\n",
       "      <th>Kommunalt foretak</th>\n",
       "      <td>1</td>\n",
       "      <td>0</td>\n",
       "    </tr>\n",
       "    <tr>\n",
       "      <th>Kommune</th>\n",
       "      <td>474</td>\n",
       "      <td>0</td>\n",
       "    </tr>\n",
       "    <tr>\n",
       "      <th>Konkursbo</th>\n",
       "      <td>8</td>\n",
       "      <td>0</td>\n",
       "    </tr>\n",
       "    <tr>\n",
       "      <th>Norskregistrert utenlandsk foretak</th>\n",
       "      <td>56</td>\n",
       "      <td>0</td>\n",
       "    </tr>\n",
       "    <tr>\n",
       "      <th>Organisasjonsledd</th>\n",
       "      <td>367</td>\n",
       "      <td>0</td>\n",
       "    </tr>\n",
       "    <tr>\n",
       "      <th>Samvirkeforetak</th>\n",
       "      <td>616</td>\n",
       "      <td>0</td>\n",
       "    </tr>\n",
       "    <tr>\n",
       "      <th>Selskap med begrenset ansvar</th>\n",
       "      <td>56</td>\n",
       "      <td>0</td>\n",
       "    </tr>\n",
       "    <tr>\n",
       "      <th>Staten</th>\n",
       "      <td>22</td>\n",
       "      <td>0</td>\n",
       "    </tr>\n",
       "    <tr>\n",
       "      <th>Stiftelse</th>\n",
       "      <td>224</td>\n",
       "      <td>0</td>\n",
       "    </tr>\n",
       "  </tbody>\n",
       "</table>\n",
       "</div>"
      ],
      "text/plain": [
       "ErBarnehage                                False  True \n",
       "Organisasjonsform_Navn                                 \n",
       "Aksjeselskap                                1918      0\n",
       "Allment aksjeselskap                           1      0\n",
       "Annen juridisk person                         27      0\n",
       "Annet foretak iflg. særskilt lov              35      0\n",
       "Ansvarlig selskap                             78      0\n",
       "Ansvarlig selskap med delt deltakeransvar    136      0\n",
       "Bedrift                                      348   8806\n",
       "Borettslag                                     5      0\n",
       "Den norske kirke                              90      0\n",
       "Enkeltpersonforetak                         1261      0\n",
       "Forening/lag/innretning                      366      0\n",
       "Fylkeskommune                                 28      0\n",
       "Ingen enhetstype                               3      0\n",
       "Kommunalt foretak                              1      0\n",
       "Kommune                                      474      0\n",
       "Konkursbo                                      8      0\n",
       "Norskregistrert utenlandsk foretak            56      0\n",
       "Organisasjonsledd                            367      0\n",
       "Samvirkeforetak                              616      0\n",
       "Selskap med begrenset ansvar                  56      0\n",
       "Staten                                        22      0\n",
       "Stiftelse                                    224      0"
      ]
     },
     "execution_count": 15,
     "metadata": {},
     "output_type": "execute_result"
    }
   ],
   "source": [
    "pd.crosstab(nbr.Organisasjonsform_Navn, nbr.ErBarnehage)"
   ]
  },
  {
   "cell_type": "code",
   "execution_count": 16,
   "metadata": {},
   "outputs": [
    {
     "data": {
      "text/html": [
       "<div>\n",
       "<style scoped>\n",
       "    .dataframe tbody tr th:only-of-type {\n",
       "        vertical-align: middle;\n",
       "    }\n",
       "\n",
       "    .dataframe tbody tr th {\n",
       "        vertical-align: top;\n",
       "    }\n",
       "\n",
       "    .dataframe thead th {\n",
       "        text-align: right;\n",
       "    }\n",
       "</style>\n",
       "<table border=\"1\" class=\"dataframe\">\n",
       "  <thead>\n",
       "    <tr style=\"text-align: right;\">\n",
       "      <th>ErBarnehageEier</th>\n",
       "      <th>False</th>\n",
       "      <th>True</th>\n",
       "    </tr>\n",
       "    <tr>\n",
       "      <th>ErBarnehage</th>\n",
       "      <th></th>\n",
       "      <th></th>\n",
       "    </tr>\n",
       "  </thead>\n",
       "  <tbody>\n",
       "    <tr>\n",
       "      <th>False</th>\n",
       "      <td>1758</td>\n",
       "      <td>4362</td>\n",
       "    </tr>\n",
       "    <tr>\n",
       "      <th>True</th>\n",
       "      <td>8806</td>\n",
       "      <td>0</td>\n",
       "    </tr>\n",
       "  </tbody>\n",
       "</table>\n",
       "</div>"
      ],
      "text/plain": [
       "ErBarnehageEier  False  True \n",
       "ErBarnehage                  \n",
       "False             1758   4362\n",
       "True              8806      0"
      ]
     },
     "execution_count": 16,
     "metadata": {},
     "output_type": "execute_result"
    }
   ],
   "source": [
    "pd.crosstab(nbr.ErBarnehage, nbr.ErBarnehageEier)"
   ]
  },
  {
   "cell_type": "markdown",
   "metadata": {},
   "source": [
    "Fra nå av fokuserer vi bare på organisasjonene registrert som aktive barnehager. Det er 5 955 organisasjoner som er registrert som aktive barnehager.  "
   ]
  },
  {
   "cell_type": "code",
   "execution_count": 17,
   "metadata": {},
   "outputs": [
    {
     "data": {
      "text/html": [
       "<div>\n",
       "<style scoped>\n",
       "    .dataframe tbody tr th:only-of-type {\n",
       "        vertical-align: middle;\n",
       "    }\n",
       "\n",
       "    .dataframe tbody tr th {\n",
       "        vertical-align: top;\n",
       "    }\n",
       "\n",
       "    .dataframe thead th {\n",
       "        text-align: right;\n",
       "    }\n",
       "</style>\n",
       "<table border=\"1\" class=\"dataframe\">\n",
       "  <thead>\n",
       "    <tr style=\"text-align: right;\">\n",
       "      <th>ErAktiv</th>\n",
       "      <th>False</th>\n",
       "      <th>True</th>\n",
       "    </tr>\n",
       "    <tr>\n",
       "      <th>ErBarnehage</th>\n",
       "      <th></th>\n",
       "      <th></th>\n",
       "    </tr>\n",
       "  </thead>\n",
       "  <tbody>\n",
       "    <tr>\n",
       "      <th>False</th>\n",
       "      <td>2573</td>\n",
       "      <td>3547</td>\n",
       "    </tr>\n",
       "    <tr>\n",
       "      <th>True</th>\n",
       "      <td>2851</td>\n",
       "      <td>5955</td>\n",
       "    </tr>\n",
       "  </tbody>\n",
       "</table>\n",
       "</div>"
      ],
      "text/plain": [
       "ErAktiv      False  True \n",
       "ErBarnehage              \n",
       "False         2573   3547\n",
       "True          2851   5955"
      ]
     },
     "execution_count": 17,
     "metadata": {},
     "output_type": "execute_result"
    }
   ],
   "source": [
    "pd.crosstab(nbr.ErBarnehage, nbr.ErAktiv)"
   ]
  },
  {
   "cell_type": "code",
   "execution_count": 19,
   "metadata": {},
   "outputs": [],
   "source": [
    "bhg = nbr.query('ErAktiv == True & ErBarnehage == True')"
   ]
  },
  {
   "cell_type": "markdown",
   "metadata": {},
   "source": [
    "##### Barnehagekategori\n",
    "\n",
    "Barnehagene i NBR er registrert med forskjellige kategorier. Brukte kategorier, er: \n",
    "\n",
    "- Offentlig barnehage\n",
    "- Privat barnehage\n",
    "- Inaktiv i Basil\n",
    "\n",
    "Offentlig og privat barnehage er gjensidig utelukkende kategorier, men bagge har noe overlapp med inaktivitet i Basil. Hva som kjennetegner en aktiv barnehage i NBR som er inaktiv i Basil er ukjent. "
   ]
  },
  {
   "cell_type": "code",
   "execution_count": 21,
   "metadata": {},
   "outputs": [
    {
     "data": {
      "text/html": [
       "<div>\n",
       "<style scoped>\n",
       "    .dataframe tbody tr th:only-of-type {\n",
       "        vertical-align: middle;\n",
       "    }\n",
       "\n",
       "    .dataframe tbody tr th {\n",
       "        vertical-align: top;\n",
       "    }\n",
       "\n",
       "    .dataframe thead th {\n",
       "        text-align: right;\n",
       "    }\n",
       "</style>\n",
       "<table border=\"1\" class=\"dataframe\">\n",
       "  <thead>\n",
       "    <tr style=\"text-align: right;\">\n",
       "      <th>ErOffentligBarnehage</th>\n",
       "      <th>False</th>\n",
       "      <th>True</th>\n",
       "    </tr>\n",
       "    <tr>\n",
       "      <th>ErPrivatBarnehage</th>\n",
       "      <th></th>\n",
       "      <th></th>\n",
       "    </tr>\n",
       "  </thead>\n",
       "  <tbody>\n",
       "    <tr>\n",
       "      <th>False</th>\n",
       "      <td>0</td>\n",
       "      <td>2818</td>\n",
       "    </tr>\n",
       "    <tr>\n",
       "      <th>True</th>\n",
       "      <td>3137</td>\n",
       "      <td>0</td>\n",
       "    </tr>\n",
       "  </tbody>\n",
       "</table>\n",
       "</div>"
      ],
      "text/plain": [
       "ErOffentligBarnehage  False  True \n",
       "ErPrivatBarnehage                 \n",
       "False                     0   2818\n",
       "True                   3137      0"
      ]
     },
     "execution_count": 21,
     "metadata": {},
     "output_type": "execute_result"
    }
   ],
   "source": [
    "pd.crosstab(bhg.ErPrivatBarnehage, bhg.ErOffentligBarnehage)"
   ]
  },
  {
   "cell_type": "code",
   "execution_count": 22,
   "metadata": {},
   "outputs": [
    {
     "data": {
      "text/html": [
       "<div>\n",
       "<style scoped>\n",
       "    .dataframe tbody tr th:only-of-type {\n",
       "        vertical-align: middle;\n",
       "    }\n",
       "\n",
       "    .dataframe tbody tr th {\n",
       "        vertical-align: top;\n",
       "    }\n",
       "\n",
       "    .dataframe thead th {\n",
       "        text-align: right;\n",
       "    }\n",
       "</style>\n",
       "<table border=\"1\" class=\"dataframe\">\n",
       "  <thead>\n",
       "    <tr style=\"text-align: right;\">\n",
       "      <th>ErInaktivIBasil</th>\n",
       "      <th>False</th>\n",
       "      <th>True</th>\n",
       "    </tr>\n",
       "    <tr>\n",
       "      <th>ErPrivatBarnehage</th>\n",
       "      <th></th>\n",
       "      <th></th>\n",
       "    </tr>\n",
       "  </thead>\n",
       "  <tbody>\n",
       "    <tr>\n",
       "      <th>False</th>\n",
       "      <td>2650</td>\n",
       "      <td>168</td>\n",
       "    </tr>\n",
       "    <tr>\n",
       "      <th>True</th>\n",
       "      <td>2886</td>\n",
       "      <td>251</td>\n",
       "    </tr>\n",
       "  </tbody>\n",
       "</table>\n",
       "</div>"
      ],
      "text/plain": [
       "ErInaktivIBasil    False  True \n",
       "ErPrivatBarnehage              \n",
       "False               2650    168\n",
       "True                2886    251"
      ]
     },
     "execution_count": 22,
     "metadata": {},
     "output_type": "execute_result"
    }
   ],
   "source": [
    "pd.crosstab(bhg.ErPrivatBarnehage, bhg.ErInaktivIBasil)"
   ]
  },
  {
   "cell_type": "code",
   "execution_count": 24,
   "metadata": {},
   "outputs": [
    {
     "data": {
      "text/html": [
       "<div>\n",
       "<style scoped>\n",
       "    .dataframe tbody tr th:only-of-type {\n",
       "        vertical-align: middle;\n",
       "    }\n",
       "\n",
       "    .dataframe tbody tr th {\n",
       "        vertical-align: top;\n",
       "    }\n",
       "\n",
       "    .dataframe thead th {\n",
       "        text-align: right;\n",
       "    }\n",
       "</style>\n",
       "<table border=\"1\" class=\"dataframe\">\n",
       "  <thead>\n",
       "    <tr style=\"text-align: right;\">\n",
       "      <th>ErOffentligBarnehage</th>\n",
       "      <th>False</th>\n",
       "      <th>True</th>\n",
       "    </tr>\n",
       "    <tr>\n",
       "      <th>ErPrivatBarnehage</th>\n",
       "      <th></th>\n",
       "      <th></th>\n",
       "    </tr>\n",
       "  </thead>\n",
       "  <tbody>\n",
       "    <tr>\n",
       "      <th>False</th>\n",
       "      <td>0</td>\n",
       "      <td>2818</td>\n",
       "    </tr>\n",
       "    <tr>\n",
       "      <th>True</th>\n",
       "      <td>3137</td>\n",
       "      <td>0</td>\n",
       "    </tr>\n",
       "  </tbody>\n",
       "</table>\n",
       "</div>"
      ],
      "text/plain": [
       "ErOffentligBarnehage  False  True \n",
       "ErPrivatBarnehage                 \n",
       "False                     0   2818\n",
       "True                   3137      0"
      ]
     },
     "execution_count": 24,
     "metadata": {},
     "output_type": "execute_result"
    }
   ],
   "source": [
    "pd.crosstab(bhg.ErPrivatBarnehage, bhg.ErOffentligBarnehage)"
   ]
  },
  {
   "cell_type": "markdown",
   "metadata": {},
   "source": [
    "Ut fra barnehagekategoriene er det mulig å identifisere kommunale barnehager, familiebarnehager, åpne barnehager, mm.  \n",
    "\n",
    "265 av barnehagene har bare én kategori, og det er med ett unntak \"Privat barnehage\". \n"
   ]
  },
  {
   "cell_type": "code",
   "execution_count": 27,
   "metadata": {},
   "outputs": [
    {
     "data": {
      "text/plain": [
       "Ordinær barnehage           4971\n",
       "Privat barnehage            3137\n",
       "Offentlig barnehage         2818\n",
       "Kommunal barnehage          2805\n",
       "Familiebarnehage             391\n",
       "Åpen barnehage               104\n",
       "Kombinert barnehage           36\n",
       "Statlig barnehage             11\n",
       "Fylkeskommunal barnehage       1\n",
       "Name: value, dtype: int64"
      ]
     },
     "execution_count": 27,
     "metadata": {},
     "output_type": "execute_result"
    }
   ],
   "source": [
    "\n",
    "bhg_bhgkat = [\"Orgnr\"] + [col for col in bhg.columns if col.startswith(\"Barnehagekategorier\") and col.endswith(\"_Navn\")]\n",
    "\n",
    "kategorier = bhg[bhg_bhgkat]\n",
    "\n",
    "kategorier = pd.melt(kategorier, id_vars =\"Orgnr\", value_vars=bhg_bhgkat[1:])\n",
    "kategorier = kategorier[kategorier[\"value\"].notna()]\n",
    "kategorier.sort_values(by = \"Orgnr\")\n",
    "\n",
    "kategorier[\"value\"].value_counts()\n",
    "\n"
   ]
  },
  {
   "cell_type": "code",
   "execution_count": 28,
   "metadata": {},
   "outputs": [
    {
     "data": {
      "text/plain": [
       "Privat barnehage       264\n",
       "Offentlig barnehage      1\n",
       "Name: value, dtype: int64"
      ]
     },
     "execution_count": 28,
     "metadata": {},
     "output_type": "execute_result"
    }
   ],
   "source": [
    "kategorier[\"count\"] = kategorier.groupby(\"Orgnr\")['value'].transform(len)\n",
    "kategorier_one = kategorier.query(\"count == 1\")\n",
    "kategorier_one[\"value\"].value_counts()\n"
   ]
  }
 ],
 "metadata": {
  "kernelspec": {
   "display_name": "Python 3.10.6 ('.venv': venv)",
   "language": "python",
   "name": "python3"
  },
  "language_info": {
   "codemirror_mode": {
    "name": "ipython",
    "version": 3
   },
   "file_extension": ".py",
   "mimetype": "text/x-python",
   "name": "python",
   "nbconvert_exporter": "python",
   "pygments_lexer": "ipython3",
   "version": "3.10.6"
  },
  "orig_nbformat": 4,
  "vscode": {
   "interpreter": {
    "hash": "50ab3efaf88314556cb4aaea901d64c019e2c7726279e581a5d216ab2124ab53"
   }
  }
 },
 "nbformat": 4,
 "nbformat_minor": 2
}
