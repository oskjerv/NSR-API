{
 "cells": [
  {
   "cell_type": "markdown",
   "metadata": {},
   "source": [
    "##### Nasjonalt register for lærebedrifter: Alle organisasjoner\n",
    "For å benytte seg av NLR er det nødvendig med en autentiseringsnøkkel. Det har vi ikke i skrivende stund. "
   ]
  },
  {
   "cell_type": "code",
   "execution_count": null,
   "metadata": {},
   "outputs": [],
   "source": [
    "import requests\n",
    "import pandas as pd\n",
    "import json\n",
    "\n",
    "# Locale module\n",
    "from nxr_classes import Organisations"
   ]
  },
  {
   "cell_type": "code",
   "execution_count": null,
   "metadata": {},
   "outputs": [],
   "source": [
    "#nlr_organisations = Organisations('nlr')\n",
    "\n",
    "#nlr_organisations.get_overview()\n",
    "\n",
    "#nlr_organisations.overview.sample(10)"
   ]
  },
  {
   "cell_type": "code",
   "execution_count": null,
   "metadata": {},
   "outputs": [],
   "source": [
    "#for org in nlr_organisations.overview['Orgnr']:\n",
    "#    nlr_organisations.get_org(org)\n",
    "#    nlr_organisations.flatten_json(org)\n",
    "\n",
    "\n",
    "#nlr_organisations.gen_df()\n"
   ]
  }
 ],
 "metadata": {
  "kernelspec": {
   "display_name": "Python 3.10.6 ('.venv': venv)",
   "language": "python",
   "name": "python3"
  },
  "language_info": {
   "name": "python",
   "version": "3.10.6"
  },
  "orig_nbformat": 4,
  "vscode": {
   "interpreter": {
    "hash": "50ab3efaf88314556cb4aaea901d64c019e2c7726279e581a5d216ab2124ab53"
   }
  }
 },
 "nbformat": 4,
 "nbformat_minor": 2
}
