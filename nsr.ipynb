{
 "cells": [
  {
   "cell_type": "code",
   "execution_count": null,
   "metadata": {},
   "outputs": [],
   "source": [
    "import requests\n",
    "import pandas as pd\n",
    "import json\n",
    "\n",
    "# Locale module\n",
    "from nxr_classes import Organisations"
   ]
  },
  {
   "cell_type": "markdown",
   "metadata": {},
   "source": [
    "##### Nasjonalt skoleregister: Alle organisasjoner\n",
    "NSR består av 16 343 organisasjoner. Vi skal hente ut detaljert informasjon om samtlige av dem. "
   ]
  },
  {
   "cell_type": "code",
   "execution_count": null,
   "metadata": {},
   "outputs": [],
   "source": [
    "nsr_organisations = Organisations('nsr')\n",
    "\n",
    "nsr_organisations.get_overview()\n",
    "\n",
    "nsr_organisations.overview.sample(10)"
   ]
  },
  {
   "cell_type": "code",
   "execution_count": null,
   "metadata": {},
   "outputs": [],
   "source": [
    "\n",
    "for org in nsr_organisations.overview['Orgnr']:\n",
    "    nsr_organisations.get_org(org)\n",
    "    nsr_organisations.flatten_json(org)\n",
    "\n",
    "\n",
    "nsr_organisations.gen_df()\n",
    "\n",
    "\n",
    "cols = nsr_organisations.df.columns.tolist()\n",
    "first_cols = list()\n",
    "end_cols = list()\n",
    "\n",
    "for col in cols:\n",
    "    if \"Skolekategorier\" in col or  \"Naeringskoder\" in col:\n",
    "        end_cols.append(col)\n",
    "    else:\n",
    "        first_cols.append(col)\n",
    "\n",
    "new_cols = first_cols + end_cols\n",
    "\n",
    "nsr_organisations.df = nsr_organisations.df[new_cols]\n",
    "        "
   ]
  },
  {
   "cell_type": "code",
   "execution_count": null,
   "metadata": {},
   "outputs": [],
   "source": [
    "nsr_organisations.df.to_excel(nsr_organisations.register +\" - alle organisasjoner.xlsx\")"
   ]
  }
 ],
 "metadata": {
  "kernelspec": {
   "display_name": "Python 3.10.6 ('.venv': venv)",
   "language": "python",
   "name": "python3"
  },
  "language_info": {
   "codemirror_mode": {
    "name": "ipython",
    "version": 3
   },
   "file_extension": ".py",
   "mimetype": "text/x-python",
   "name": "python",
   "nbconvert_exporter": "python",
   "pygments_lexer": "ipython3",
   "version": "3.10.6"
  },
  "orig_nbformat": 4,
  "vscode": {
   "interpreter": {
    "hash": "50ab3efaf88314556cb4aaea901d64c019e2c7726279e581a5d216ab2124ab53"
   }
  }
 },
 "nbformat": 4,
 "nbformat_minor": 2
}
