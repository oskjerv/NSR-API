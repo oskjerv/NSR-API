{
 "cells": [
  {
   "cell_type": "code",
   "execution_count": 1,
   "metadata": {},
   "outputs": [],
   "source": [
    "import pandas as pd\n",
    "import matplotlib.pyplot as plt\n",
    "\n",
    "# Local module\n",
    "from nxr_classes import Organisations"
   ]
  },
  {
   "cell_type": "markdown",
   "metadata": {},
   "source": []
  },
  {
   "cell_type": "code",
   "execution_count": 4,
   "metadata": {},
   "outputs": [],
   "source": [
    "nsr = pd.read_excel(\"nsr - alle organisasjoner.xlsx\")"
   ]
  },
  {
   "cell_type": "markdown",
   "metadata": {},
   "source": [
    "#### Nasjonalt skoleregister (NSR)\n",
    "Udirs beskrivelse av registeret:   \n",
    "\"Data fra Nasjonalt skoleregister (NSR) viser enheter fra Virksomhets- og Foretaksregisteret (Vof) som tilhører grunnutdanningen. Skolene (bedriftene/virksomhetene) og deres eiere (foretak) skal være avstemt med VoF. NSR viser også Norske skoler i utlandet og inneholder noe tilleggsinformasjon utover det som fins i VoF.\"\n",
    "\n",
    "Vi har hentet ut detaljert informasjon om samtlige 16 343 organisasjoner som er registrert i NSR.\n",
    "\n",
    "I registeret er det registrert:\n",
    "- Organisasjonsnummer\n",
    "- Navn\n",
    "- Skoleeier (kommune og fylke)\n",
    "- Beliggenhet\n",
    "- Kontaktinformasjon (epost, telefon og postadresse)\n",
    "- Målform\n",
    "- Organisasjonsform\n",
    "- Skoleleder\n",
    "- Elevtall\n",
    "- Antall ansatte\n",
    "- Skoletrinn grunnskolen (fra/til)\n",
    "- Skoletrinn vgs (fra/til)\n",
    "- Privatskolegodkjenning\n",
    "- Næringskoder\n",
    "- Skolekategori\n",
    "\n",
    "Dette dokumentet går gjennom den mest sentrale informasjon i NSR. "
   ]
  },
  {
   "cell_type": "markdown",
   "metadata": {},
   "source": [
    "##### Aktive og nedlagte skoler\n",
    "\n",
    "Først og fremst er det verdt å merke seg at NSR består av både aktive og nedlagte organsisasjoner. Tabellen under viser forskjellige status i registeret og hvor mange skoler som tilhører hver av dem. I NSR er det 8 332 aktive skoler, eller sagt på registerspråket: Skoler uten utgåtttype. "
   ]
  },
  {
   "cell_type": "code",
   "execution_count": 17,
   "metadata": {},
   "outputs": [
    {
     "data": {
      "text/plain": [
       "Ingen utgåttype                        8334\n",
       "Slettet                                6095\n",
       "Utg pga eier mangler aktiv bedrift      709\n",
       "Utg pga næringsendring                  696\n",
       "Slettet for sammenslåing                416\n",
       "Slettet for dublett                      51\n",
       "Utg pga eier er Enkeltpersonforetak      46\n",
       "Name: Utgaattype_Navn, dtype: int64"
      ]
     },
     "execution_count": 17,
     "metadata": {},
     "output_type": "execute_result"
    }
   ],
   "source": [
    "nsr['Utgaattype_Navn'].value_counts()"
   ]
  },
  {
   "cell_type": "markdown",
   "metadata": {},
   "source": [
    "Det er også mulig å identifisere nedlagte organisasjoner med kolonnnen `ErAktiv`."
   ]
  },
  {
   "cell_type": "code",
   "execution_count": 18,
   "metadata": {},
   "outputs": [
    {
     "data": {
      "text/html": [
       "<div>\n",
       "<style scoped>\n",
       "    .dataframe tbody tr th:only-of-type {\n",
       "        vertical-align: middle;\n",
       "    }\n",
       "\n",
       "    .dataframe tbody tr th {\n",
       "        vertical-align: top;\n",
       "    }\n",
       "\n",
       "    .dataframe thead th {\n",
       "        text-align: right;\n",
       "    }\n",
       "</style>\n",
       "<table border=\"1\" class=\"dataframe\">\n",
       "  <thead>\n",
       "    <tr style=\"text-align: right;\">\n",
       "      <th>ErAktiv</th>\n",
       "      <th>False</th>\n",
       "      <th>True</th>\n",
       "    </tr>\n",
       "    <tr>\n",
       "      <th>Utgaattype_Navn</th>\n",
       "      <th></th>\n",
       "      <th></th>\n",
       "    </tr>\n",
       "  </thead>\n",
       "  <tbody>\n",
       "    <tr>\n",
       "      <th>Ingen utgåttype</th>\n",
       "      <td>2</td>\n",
       "      <td>8332</td>\n",
       "    </tr>\n",
       "    <tr>\n",
       "      <th>Slettet</th>\n",
       "      <td>6095</td>\n",
       "      <td>0</td>\n",
       "    </tr>\n",
       "    <tr>\n",
       "      <th>Slettet for dublett</th>\n",
       "      <td>51</td>\n",
       "      <td>0</td>\n",
       "    </tr>\n",
       "    <tr>\n",
       "      <th>Slettet for sammenslåing</th>\n",
       "      <td>416</td>\n",
       "      <td>0</td>\n",
       "    </tr>\n",
       "    <tr>\n",
       "      <th>Utg pga eier er Enkeltpersonforetak</th>\n",
       "      <td>46</td>\n",
       "      <td>0</td>\n",
       "    </tr>\n",
       "    <tr>\n",
       "      <th>Utg pga eier mangler aktiv bedrift</th>\n",
       "      <td>709</td>\n",
       "      <td>0</td>\n",
       "    </tr>\n",
       "    <tr>\n",
       "      <th>Utg pga næringsendring</th>\n",
       "      <td>696</td>\n",
       "      <td>0</td>\n",
       "    </tr>\n",
       "  </tbody>\n",
       "</table>\n",
       "</div>"
      ],
      "text/plain": [
       "ErAktiv                              False  True \n",
       "Utgaattype_Navn                                  \n",
       "Ingen utgåttype                          2   8332\n",
       "Slettet                               6095      0\n",
       "Slettet for dublett                     51      0\n",
       "Slettet for sammenslåing               416      0\n",
       "Utg pga eier er Enkeltpersonforetak     46      0\n",
       "Utg pga eier mangler aktiv bedrift     709      0\n",
       "Utg pga næringsendring                 696      0"
      ]
     },
     "execution_count": 18,
     "metadata": {},
     "output_type": "execute_result"
    }
   ],
   "source": [
    "pd.crosstab(nsr.Utgaattype_Navn, nsr.ErAktiv)"
   ]
  },
  {
   "cell_type": "markdown",
   "metadata": {},
   "source": [
    "##### Identifisere skolene\n",
    "Det er ikke alle organisasjoner i NSR som er en skole. 9 540 av organisasjonene er registrert som skole, og samtlige av dem står oppført med organisasjonsformen `Bedrift`. Organisasjoner registrert i NSR som ikke er skoler er i ofte skoleeiere.  "
   ]
  },
  {
   "cell_type": "code",
   "execution_count": 19,
   "metadata": {},
   "outputs": [
    {
     "data": {
      "text/html": [
       "<div>\n",
       "<style scoped>\n",
       "    .dataframe tbody tr th:only-of-type {\n",
       "        vertical-align: middle;\n",
       "    }\n",
       "\n",
       "    .dataframe tbody tr th {\n",
       "        vertical-align: top;\n",
       "    }\n",
       "\n",
       "    .dataframe thead th {\n",
       "        text-align: right;\n",
       "    }\n",
       "</style>\n",
       "<table border=\"1\" class=\"dataframe\">\n",
       "  <thead>\n",
       "    <tr style=\"text-align: right;\">\n",
       "      <th>ErSkole</th>\n",
       "      <th>False</th>\n",
       "      <th>True</th>\n",
       "    </tr>\n",
       "    <tr>\n",
       "      <th>Organisasjonsform_Navn</th>\n",
       "      <th></th>\n",
       "      <th></th>\n",
       "    </tr>\n",
       "  </thead>\n",
       "  <tbody>\n",
       "    <tr>\n",
       "      <th>Aksjeselskap</th>\n",
       "      <td>2486</td>\n",
       "      <td>0</td>\n",
       "    </tr>\n",
       "    <tr>\n",
       "      <th>Annen juridisk person</th>\n",
       "      <td>34</td>\n",
       "      <td>0</td>\n",
       "    </tr>\n",
       "    <tr>\n",
       "      <th>Annet foretak iflg. særskilt lov</th>\n",
       "      <td>18</td>\n",
       "      <td>0</td>\n",
       "    </tr>\n",
       "    <tr>\n",
       "      <th>Ansvarlig selskap</th>\n",
       "      <td>50</td>\n",
       "      <td>0</td>\n",
       "    </tr>\n",
       "    <tr>\n",
       "      <th>Ansvarlig selskap med delt deltakeransvar</th>\n",
       "      <td>145</td>\n",
       "      <td>0</td>\n",
       "    </tr>\n",
       "    <tr>\n",
       "      <th>Bedrift</th>\n",
       "      <td>647</td>\n",
       "      <td>9542</td>\n",
       "    </tr>\n",
       "    <tr>\n",
       "      <th>Den norske kirke</th>\n",
       "      <td>2</td>\n",
       "      <td>0</td>\n",
       "    </tr>\n",
       "    <tr>\n",
       "      <th>Enkeltpersonforetak</th>\n",
       "      <td>456</td>\n",
       "      <td>0</td>\n",
       "    </tr>\n",
       "    <tr>\n",
       "      <th>Forening/lag/innretning</th>\n",
       "      <td>603</td>\n",
       "      <td>0</td>\n",
       "    </tr>\n",
       "    <tr>\n",
       "      <th>Fylkeskommunalt foretak</th>\n",
       "      <td>2</td>\n",
       "      <td>0</td>\n",
       "    </tr>\n",
       "    <tr>\n",
       "      <th>Fylkeskommune</th>\n",
       "      <td>28</td>\n",
       "      <td>0</td>\n",
       "    </tr>\n",
       "    <tr>\n",
       "      <th>Ikke næringsdrivende virksomhet</th>\n",
       "      <td>64</td>\n",
       "      <td>0</td>\n",
       "    </tr>\n",
       "    <tr>\n",
       "      <th>Interkommunalt selskap</th>\n",
       "      <td>7</td>\n",
       "      <td>0</td>\n",
       "    </tr>\n",
       "    <tr>\n",
       "      <th>Kommunalt foretak</th>\n",
       "      <td>10</td>\n",
       "      <td>0</td>\n",
       "    </tr>\n",
       "    <tr>\n",
       "      <th>Kommune</th>\n",
       "      <td>474</td>\n",
       "      <td>0</td>\n",
       "    </tr>\n",
       "    <tr>\n",
       "      <th>Konkursbo</th>\n",
       "      <td>194</td>\n",
       "      <td>0</td>\n",
       "    </tr>\n",
       "    <tr>\n",
       "      <th>Norskregistrert utenlandsk foretak</th>\n",
       "      <td>234</td>\n",
       "      <td>0</td>\n",
       "    </tr>\n",
       "    <tr>\n",
       "      <th>Organisasjonsledd</th>\n",
       "      <td>916</td>\n",
       "      <td>0</td>\n",
       "    </tr>\n",
       "    <tr>\n",
       "      <th>Samvirkeforetak</th>\n",
       "      <td>85</td>\n",
       "      <td>0</td>\n",
       "    </tr>\n",
       "    <tr>\n",
       "      <th>Selskap med begrenset ansvar</th>\n",
       "      <td>27</td>\n",
       "      <td>0</td>\n",
       "    </tr>\n",
       "    <tr>\n",
       "      <th>Staten</th>\n",
       "      <td>22</td>\n",
       "      <td>0</td>\n",
       "    </tr>\n",
       "    <tr>\n",
       "      <th>Statsforetak</th>\n",
       "      <td>1</td>\n",
       "      <td>0</td>\n",
       "    </tr>\n",
       "    <tr>\n",
       "      <th>Stiftelse</th>\n",
       "      <td>299</td>\n",
       "      <td>0</td>\n",
       "    </tr>\n",
       "    <tr>\n",
       "      <th>Særskilt oppdelt enhet</th>\n",
       "      <td>1</td>\n",
       "      <td>0</td>\n",
       "    </tr>\n",
       "  </tbody>\n",
       "</table>\n",
       "</div>"
      ],
      "text/plain": [
       "ErSkole                                    False  True \n",
       "Organisasjonsform_Navn                                 \n",
       "Aksjeselskap                                2486      0\n",
       "Annen juridisk person                         34      0\n",
       "Annet foretak iflg. særskilt lov              18      0\n",
       "Ansvarlig selskap                             50      0\n",
       "Ansvarlig selskap med delt deltakeransvar    145      0\n",
       "Bedrift                                      647   9542\n",
       "Den norske kirke                               2      0\n",
       "Enkeltpersonforetak                          456      0\n",
       "Forening/lag/innretning                      603      0\n",
       "Fylkeskommunalt foretak                        2      0\n",
       "Fylkeskommune                                 28      0\n",
       "Ikke næringsdrivende virksomhet               64      0\n",
       "Interkommunalt selskap                         7      0\n",
       "Kommunalt foretak                             10      0\n",
       "Kommune                                      474      0\n",
       "Konkursbo                                    194      0\n",
       "Norskregistrert utenlandsk foretak           234      0\n",
       "Organisasjonsledd                            916      0\n",
       "Samvirkeforetak                               85      0\n",
       "Selskap med begrenset ansvar                  27      0\n",
       "Staten                                        22      0\n",
       "Statsforetak                                   1      0\n",
       "Stiftelse                                    299      0\n",
       "Særskilt oppdelt enhet                         1      0"
      ]
     },
     "execution_count": 19,
     "metadata": {},
     "output_type": "execute_result"
    }
   ],
   "source": [
    "pd.crosstab(nsr.Organisasjonsform_Navn, nsr.ErSkole)"
   ]
  },
  {
   "cell_type": "code",
   "execution_count": 20,
   "metadata": {},
   "outputs": [
    {
     "data": {
      "text/html": [
       "<div>\n",
       "<style scoped>\n",
       "    .dataframe tbody tr th:only-of-type {\n",
       "        vertical-align: middle;\n",
       "    }\n",
       "\n",
       "    .dataframe tbody tr th {\n",
       "        vertical-align: top;\n",
       "    }\n",
       "\n",
       "    .dataframe thead th {\n",
       "        text-align: right;\n",
       "    }\n",
       "</style>\n",
       "<table border=\"1\" class=\"dataframe\">\n",
       "  <thead>\n",
       "    <tr style=\"text-align: right;\">\n",
       "      <th>ErSkoleeier</th>\n",
       "      <th>False</th>\n",
       "      <th>True</th>\n",
       "    </tr>\n",
       "    <tr>\n",
       "      <th>ErSkole</th>\n",
       "      <th></th>\n",
       "      <th></th>\n",
       "    </tr>\n",
       "  </thead>\n",
       "  <tbody>\n",
       "    <tr>\n",
       "      <th>False</th>\n",
       "      <td>2877</td>\n",
       "      <td>3928</td>\n",
       "    </tr>\n",
       "    <tr>\n",
       "      <th>True</th>\n",
       "      <td>9542</td>\n",
       "      <td>0</td>\n",
       "    </tr>\n",
       "  </tbody>\n",
       "</table>\n",
       "</div>"
      ],
      "text/plain": [
       "ErSkoleeier  False  True \n",
       "ErSkole                  \n",
       "False         2877   3928\n",
       "True          9542      0"
      ]
     },
     "execution_count": 20,
     "metadata": {},
     "output_type": "execute_result"
    }
   ],
   "source": [
    "pd.crosstab(nsr.ErSkole, nsr.ErSkoleeier)"
   ]
  },
  {
   "cell_type": "markdown",
   "metadata": {},
   "source": [
    "Fra nå av fokuserer vi bare på organisasjonene registrert som aktive skoler. Det er 5 567 organisasjoner som er registrert som aktive skoler.  "
   ]
  },
  {
   "cell_type": "code",
   "execution_count": 21,
   "metadata": {},
   "outputs": [
    {
     "data": {
      "text/html": [
       "<div>\n",
       "<style scoped>\n",
       "    .dataframe tbody tr th:only-of-type {\n",
       "        vertical-align: middle;\n",
       "    }\n",
       "\n",
       "    .dataframe tbody tr th {\n",
       "        vertical-align: top;\n",
       "    }\n",
       "\n",
       "    .dataframe thead th {\n",
       "        text-align: right;\n",
       "    }\n",
       "</style>\n",
       "<table border=\"1\" class=\"dataframe\">\n",
       "  <thead>\n",
       "    <tr style=\"text-align: right;\">\n",
       "      <th>ErAktiv</th>\n",
       "      <th>False</th>\n",
       "      <th>True</th>\n",
       "    </tr>\n",
       "    <tr>\n",
       "      <th>ErSkole</th>\n",
       "      <th></th>\n",
       "      <th></th>\n",
       "    </tr>\n",
       "  </thead>\n",
       "  <tbody>\n",
       "    <tr>\n",
       "      <th>False</th>\n",
       "      <td>4040</td>\n",
       "      <td>2765</td>\n",
       "    </tr>\n",
       "    <tr>\n",
       "      <th>True</th>\n",
       "      <td>3975</td>\n",
       "      <td>5567</td>\n",
       "    </tr>\n",
       "  </tbody>\n",
       "</table>\n",
       "</div>"
      ],
      "text/plain": [
       "ErAktiv  False  True \n",
       "ErSkole              \n",
       "False     4040   2765\n",
       "True      3975   5567"
      ]
     },
     "execution_count": 21,
     "metadata": {},
     "output_type": "execute_result"
    }
   ],
   "source": [
    "pd.crosstab(nsr.ErSkole, nsr.ErAktiv)"
   ]
  },
  {
   "cell_type": "code",
   "execution_count": 22,
   "metadata": {},
   "outputs": [],
   "source": [
    "skoler = nsr.query('ErAktiv == True & ErSkole == True')"
   ]
  },
  {
   "cell_type": "markdown",
   "metadata": {},
   "source": [
    "##### Skolekategori\n",
    "\n",
    "Skolene i NSR er registrert med forskjellige kategorier. Brukte kategorier, er: \n",
    "\n",
    "- Offentlig skole\n",
    "- Privatskole\n",
    "- Grunnskole\n",
    "- Videregående skole\n",
    "- Spesialskole\n",
    "- Grunnopplæring\n",
    "\n",
    "Som det fremgår av kategoriene kan én skole være registrert med flere skolekategorier. Når det er sagt er noen av kategoriene gjensidig utelukkende, slik som privat skole og offentligskole. Det er minimalt med overlapp mellom kategoriene grunnskole og videregående opplæring, men det er 42 skoler som er registrert i begge kategorier. \n",
    "\n",
    "Alle grunnskoler og videregående skoler er er naturlig definert med kategorien grunnopplæring. "
   ]
  },
  {
   "cell_type": "code",
   "execution_count": 23,
   "metadata": {},
   "outputs": [
    {
     "data": {
      "text/html": [
       "<div>\n",
       "<style scoped>\n",
       "    .dataframe tbody tr th:only-of-type {\n",
       "        vertical-align: middle;\n",
       "    }\n",
       "\n",
       "    .dataframe tbody tr th {\n",
       "        vertical-align: top;\n",
       "    }\n",
       "\n",
       "    .dataframe thead th {\n",
       "        text-align: right;\n",
       "    }\n",
       "</style>\n",
       "<table border=\"1\" class=\"dataframe\">\n",
       "  <thead>\n",
       "    <tr style=\"text-align: right;\">\n",
       "      <th>ErGrunnskole</th>\n",
       "      <th>False</th>\n",
       "      <th>True</th>\n",
       "    </tr>\n",
       "    <tr>\n",
       "      <th>ErVideregaaendeSkole</th>\n",
       "      <th></th>\n",
       "      <th></th>\n",
       "    </tr>\n",
       "  </thead>\n",
       "  <tbody>\n",
       "    <tr>\n",
       "      <th>False</th>\n",
       "      <td>2258</td>\n",
       "      <td>2761</td>\n",
       "    </tr>\n",
       "    <tr>\n",
       "      <th>True</th>\n",
       "      <td>506</td>\n",
       "      <td>42</td>\n",
       "    </tr>\n",
       "  </tbody>\n",
       "</table>\n",
       "</div>"
      ],
      "text/plain": [
       "ErGrunnskole          False  True \n",
       "ErVideregaaendeSkole              \n",
       "False                  2258   2761\n",
       "True                    506     42"
      ]
     },
     "execution_count": 23,
     "metadata": {},
     "output_type": "execute_result"
    }
   ],
   "source": [
    "pd.crosstab(skoler.ErVideregaaendeSkole, skoler.ErGrunnskole)"
   ]
  },
  {
   "cell_type": "code",
   "execution_count": 24,
   "metadata": {},
   "outputs": [
    {
     "data": {
      "text/html": [
       "<div>\n",
       "<style scoped>\n",
       "    .dataframe tbody tr th:only-of-type {\n",
       "        vertical-align: middle;\n",
       "    }\n",
       "\n",
       "    .dataframe tbody tr th {\n",
       "        vertical-align: top;\n",
       "    }\n",
       "\n",
       "    .dataframe thead th {\n",
       "        text-align: right;\n",
       "    }\n",
       "</style>\n",
       "<table border=\"1\" class=\"dataframe\">\n",
       "  <thead>\n",
       "    <tr style=\"text-align: right;\">\n",
       "      <th>ErGrunnskole</th>\n",
       "      <th>False</th>\n",
       "      <th>True</th>\n",
       "    </tr>\n",
       "    <tr>\n",
       "      <th>ErGrunnopplaering</th>\n",
       "      <th></th>\n",
       "      <th></th>\n",
       "    </tr>\n",
       "  </thead>\n",
       "  <tbody>\n",
       "    <tr>\n",
       "      <th>False</th>\n",
       "      <td>2204</td>\n",
       "      <td>0</td>\n",
       "    </tr>\n",
       "    <tr>\n",
       "      <th>True</th>\n",
       "      <td>560</td>\n",
       "      <td>2803</td>\n",
       "    </tr>\n",
       "  </tbody>\n",
       "</table>\n",
       "</div>"
      ],
      "text/plain": [
       "ErGrunnskole       False  True \n",
       "ErGrunnopplaering              \n",
       "False               2204      0\n",
       "True                 560   2803"
      ]
     },
     "execution_count": 24,
     "metadata": {},
     "output_type": "execute_result"
    }
   ],
   "source": [
    "pd.crosstab(skoler.ErGrunnopplaering, skoler.ErGrunnskole)"
   ]
  },
  {
   "cell_type": "code",
   "execution_count": 25,
   "metadata": {},
   "outputs": [
    {
     "data": {
      "text/html": [
       "<div>\n",
       "<style scoped>\n",
       "    .dataframe tbody tr th:only-of-type {\n",
       "        vertical-align: middle;\n",
       "    }\n",
       "\n",
       "    .dataframe tbody tr th {\n",
       "        vertical-align: top;\n",
       "    }\n",
       "\n",
       "    .dataframe thead th {\n",
       "        text-align: right;\n",
       "    }\n",
       "</style>\n",
       "<table border=\"1\" class=\"dataframe\">\n",
       "  <thead>\n",
       "    <tr style=\"text-align: right;\">\n",
       "      <th>ErVideregaaendeSkole</th>\n",
       "      <th>False</th>\n",
       "      <th>True</th>\n",
       "    </tr>\n",
       "    <tr>\n",
       "      <th>ErGrunnopplaering</th>\n",
       "      <th></th>\n",
       "      <th></th>\n",
       "    </tr>\n",
       "  </thead>\n",
       "  <tbody>\n",
       "    <tr>\n",
       "      <th>False</th>\n",
       "      <td>2204</td>\n",
       "      <td>0</td>\n",
       "    </tr>\n",
       "    <tr>\n",
       "      <th>True</th>\n",
       "      <td>2815</td>\n",
       "      <td>548</td>\n",
       "    </tr>\n",
       "  </tbody>\n",
       "</table>\n",
       "</div>"
      ],
      "text/plain": [
       "ErVideregaaendeSkole  False  True \n",
       "ErGrunnopplaering                 \n",
       "False                  2204      0\n",
       "True                   2815    548"
      ]
     },
     "execution_count": 25,
     "metadata": {},
     "output_type": "execute_result"
    }
   ],
   "source": [
    "pd.crosstab(skoler.ErGrunnopplaering, skoler.ErVideregaaendeSkole)"
   ]
  },
  {
   "cell_type": "markdown",
   "metadata": {},
   "source": [
    "Det er 2 204 skoler som hverken er grunnopplæring eller videregående skole. For å lære mer om disse skolene må vi se på skolekategoriene. En skole kan ha én eller flere skolekategorier. "
   ]
  },
  {
   "cell_type": "code",
   "execution_count": 39,
   "metadata": {},
   "outputs": [
    {
     "data": {
      "text/html": [
       "<div>\n",
       "<style scoped>\n",
       "    .dataframe tbody tr th:only-of-type {\n",
       "        vertical-align: middle;\n",
       "    }\n",
       "\n",
       "    .dataframe tbody tr th {\n",
       "        vertical-align: top;\n",
       "    }\n",
       "\n",
       "    .dataframe thead th {\n",
       "        text-align: right;\n",
       "    }\n",
       "</style>\n",
       "<table border=\"1\" class=\"dataframe\">\n",
       "  <thead>\n",
       "    <tr style=\"text-align: right;\">\n",
       "      <th>ErVideregaaendeSkole</th>\n",
       "      <th>False</th>\n",
       "      <th>True</th>\n",
       "    </tr>\n",
       "    <tr>\n",
       "      <th>ErGrunnopplaering</th>\n",
       "      <th></th>\n",
       "      <th></th>\n",
       "    </tr>\n",
       "  </thead>\n",
       "  <tbody>\n",
       "    <tr>\n",
       "      <th>False</th>\n",
       "      <td>2204</td>\n",
       "      <td>0</td>\n",
       "    </tr>\n",
       "    <tr>\n",
       "      <th>True</th>\n",
       "      <td>2815</td>\n",
       "      <td>548</td>\n",
       "    </tr>\n",
       "  </tbody>\n",
       "</table>\n",
       "</div>"
      ],
      "text/plain": [
       "ErVideregaaendeSkole  False  True \n",
       "ErGrunnopplaering                 \n",
       "False                  2204      0\n",
       "True                   2815    548"
      ]
     },
     "execution_count": 39,
     "metadata": {},
     "output_type": "execute_result"
    }
   ],
   "source": [
    "pd.crosstab(skoler.ErGrunnopplaering, skoler.ErVideregaaendeSkole)"
   ]
  },
  {
   "cell_type": "markdown",
   "metadata": {},
   "source": [
    "1 247 av skolene har bare én skolekategori, og det er \"Privat eiet\".  "
   ]
  },
  {
   "cell_type": "code",
   "execution_count": 70,
   "metadata": {},
   "outputs": [
    {
     "data": {
      "text/plain": [
       "Privat eiet    1247\n",
       "Name: value, dtype: int64"
      ]
     },
     "execution_count": 70,
     "metadata": {},
     "output_type": "execute_result"
    }
   ],
   "source": [
    "skoler_andre = skoler.query(\"ErGrunnopplaering == False & ErVideregaaendeSkole == False\")\n",
    "\n",
    "cols_skolekat = [\"Orgnr\"] + [col for col in skoler_andre if col.startswith(\"Skolekategorier\") and col.endswith(\"_Navn\")]\n",
    "\n",
    "skolekategorier = skoler_andre[cols_skolekat]\n",
    "\n",
    "skolekategorier = pd.melt(skolekategorier, id_vars =\"Orgnr\", value_vars=cols_skolekat[1:])\n",
    "skolekategorier = skolekategorier[skolekategorier[\"value\"].notna()]\n",
    "skolekategorier.sort_values(by = \"Orgnr\")\n",
    "\n",
    "\n",
    "skolekategorier[\"count\"] = skolekategorier.groupby(\"Orgnr\")['value'].transform(len)\n",
    "skolekategorier_one = skolekategorier.query(\"count == 1\")\n",
    "skolekategorier_one[\"value\"].value_counts()\n"
   ]
  },
  {
   "cell_type": "markdown",
   "metadata": {},
   "source": [
    "865 av de resterende 957 skolene har kategorien \"offentlig skole\", og det er tydelig at dette i stor grad er kulturskoler og voksenopplæringssentre.  "
   ]
  },
  {
   "cell_type": "code",
   "execution_count": 74,
   "metadata": {},
   "outputs": [
    {
     "data": {
      "text/plain": [
       "Offentlig skole                           865\n",
       "Kommunal                                  681\n",
       "Kulturskole                               353\n",
       "Voksenopplæringssenter                    286\n",
       "Voksenopplæring på grunnskolens område    169\n",
       "Statlig                                   129\n",
       "Privat eiet                                92\n",
       "Folkehøyskole                              88\n",
       "Godkjent privatskole                       77\n",
       "Fylkeskommunal                             54\n",
       "Norsk skole i utlandet                      1\n",
       "Interkommunal                               1\n",
       "Name: value, dtype: int64"
      ]
     },
     "execution_count": 74,
     "metadata": {},
     "output_type": "execute_result"
    }
   ],
   "source": [
    "skolekategorier_more = skolekategorier.query(\"count > 1\")\n",
    "skolekategorier_more[\"value\"].value_counts()\n",
    "#skolekategorier_more[\"Orgnr\"].nunique()"
   ]
  }
 ],
 "metadata": {
  "kernelspec": {
   "display_name": "Python 3.10.6 ('.venv': venv)",
   "language": "python",
   "name": "python3"
  },
  "language_info": {
   "codemirror_mode": {
    "name": "ipython",
    "version": 3
   },
   "file_extension": ".py",
   "mimetype": "text/x-python",
   "name": "python",
   "nbconvert_exporter": "python",
   "pygments_lexer": "ipython3",
   "version": "3.10.6"
  },
  "orig_nbformat": 4,
  "vscode": {
   "interpreter": {
    "hash": "50ab3efaf88314556cb4aaea901d64c019e2c7726279e581a5d216ab2124ab53"
   }
  }
 },
 "nbformat": 4,
 "nbformat_minor": 2
}
