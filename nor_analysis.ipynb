{
 "cells": [
  {
   "cell_type": "code",
   "execution_count": 2,
   "metadata": {},
   "outputs": [],
   "source": [
    "import pandas as pd\n",
    "import matplotlib.pyplot as plt\n",
    "\n",
    "# Local module\n",
    "from nxr_classes import Organisations"
   ]
  },
  {
   "cell_type": "markdown",
   "metadata": {},
   "source": []
  },
  {
   "cell_type": "code",
   "execution_count": 3,
   "metadata": {},
   "outputs": [],
   "source": [
    "nor = pd.read_excel(\"nor - alle organisasjoner.xlsx\")"
   ]
  },
  {
   "cell_type": "code",
   "execution_count": 7,
   "metadata": {},
   "outputs": [
    {
     "name": "stdout",
     "output_type": "stream",
     "text": [
      "Unnamed: 0\n",
      "Orgnr\n",
      "Navn\n",
      "Karakteristikk\n",
      "Fylke_Fylkesnr\n",
      "Fylke_Navn\n",
      "Fylke_Orgnr\n",
      "Fylke_OrgnrStatsforvalter\n",
      "Kommune_Kommunenr\n",
      "Kommune_Navn\n",
      "Kommune_Orgnr\n",
      "Kommune_ErNedlagt\n",
      "Kommune_Fylkesnr\n",
      "Kommunegruppe_Gruppe\n",
      "Kommunegruppe_Navn\n",
      "Beliggenhetsadresse_Adresse\n",
      "Beliggenhetsadresse_Postnr\n",
      "Beliggenhetsadresse_Poststed\n",
      "Beliggenhetsadresse_Land\n",
      "Postadresse\n",
      "Koordinat_Lengdegrad\n",
      "Koordinat_Breddegrad\n",
      "Koordinat_Zoom\n",
      "Koordinat_GeoKilde\n",
      "Epost\n",
      "Url\n",
      "Maalform_Id\n",
      "Maalform_Navn\n",
      "Telefon\n",
      "Mobil\n",
      "Fax\n",
      "Organisasjonsform_Id\n",
      "Organisasjonsform_Navn\n",
      "Utgaattype_Id\n",
      "Utgaattype_Navn\n",
      "ErAktiv\n",
      "ErOpplaeringskontor\n",
      "ErOpplaeringskontorEier\n",
      "Opplaeringskontorleder\n",
      "AntallLaerlinger\n",
      "AnsatteFra\n",
      "AnsatteTil\n",
      "Enhet_Orgnr\n",
      "Enhet_Navn\n",
      "Relasjonstype_Id\n",
      "Relasjonstype_Navn\n",
      "DatoFoedt\n",
      "DatoEndret\n",
      "Postadresse_Adresse\n",
      "Postadresse_Postnr\n",
      "Postadresse_Poststed\n",
      "Postadresse_Land\n",
      "Opplaeringskontorleder_Fornavn\n",
      "Opplaeringskontorleder_Etternavn\n",
      "Opplaeringskontorleder_Epost\n",
      "Opplaeringskontorleder_Telefon\n",
      "Beliggenhetsadresse\n",
      "Kommune_Kommunegruppe\n",
      "Naeringskoder_0_Prioritet\n",
      "Naeringskoder_0_ErHjelpeenhetskode\n",
      "Naeringskoder_0_Kode\n",
      "Naeringskoder_0_Navn\n",
      "Naeringskoder_0_Versjon\n",
      "Naeringskoder_1_Prioritet\n",
      "Naeringskoder_1_ErHjelpeenhetskode\n",
      "Naeringskoder_1_Kode\n",
      "Naeringskoder_1_Navn\n",
      "Naeringskoder_1_Versjon\n",
      "Naeringskoder_2_Prioritet\n",
      "Naeringskoder_2_ErHjelpeenhetskode\n",
      "Naeringskoder_2_Kode\n",
      "Naeringskoder_2_Navn\n",
      "Naeringskoder_2_Versjon\n"
     ]
    }
   ],
   "source": [
    "for col in nor.columns:\n",
    "    print(col)"
   ]
  },
  {
   "cell_type": "markdown",
   "metadata": {},
   "source": [
    "#### Nasjonalt register for opplæringskontorer (NOR)\n",
    "Udirs beskrivelse av registeret:   \n",
    "\"Data fra Nasjonalt register for opplæringskontorer viser enheter og deres eiere fra Virksomhets- og Foretaksregisteret (VoF). Opplæringskontorene i NOR inneholder også informasjon om hvilke fylkeskommuner som har godkjent opplæringskontoret (dette er informasjon som kommer fra VIGO).\"\n",
    "\n",
    "Vi har hentet ut detaljert informasjon om samtlige 982 organisasjoner som er registrert i NOR.\n",
    "\n",
    "I registeret er det registrert:\n",
    "- Organisasjonsnummer\n",
    "- Navn\n",
    "- Eier av opplæringskontor\n",
    "- Beliggenhet\n",
    "- Kontaktinformasjon (epost, telefon og postadresse)\n",
    "- Målform\n",
    "- Organisasjonsform\n",
    "- Kontaktinformasjon til leder for opplæringskontor\n",
    "- Antall lærlinger\n",
    "- Antall ansatte\n",
    "- Næringskoder\n",
    "\n",
    "Dette dokumentet går gjennom den mest sentrale informasjon i nor. "
   ]
  },
  {
   "cell_type": "markdown",
   "metadata": {},
   "source": [
    "##### Aktive og nedlagte barnehager\n",
    "\n",
    "Først og fremst er det verdt å merke seg at NOR består av både aktive og nedlagte organsisasjoner. Tabellen under viser forskjellige status i registeret og hvor mange opplæringskontor som tilhører hver av dem. I NOR er det 899 aktive opplæringskontor, eller sagt på registerspråket: opplæringskontor uten utgåtttype. "
   ]
  },
  {
   "cell_type": "code",
   "execution_count": 8,
   "metadata": {},
   "outputs": [
    {
     "data": {
      "text/plain": [
       "Ingen utgåttype    899\n",
       "Slettet             82\n",
       "Name: Utgaattype_Navn, dtype: int64"
      ]
     },
     "execution_count": 8,
     "metadata": {},
     "output_type": "execute_result"
    }
   ],
   "source": [
    "nor['Utgaattype_Navn'].value_counts()"
   ]
  },
  {
   "cell_type": "markdown",
   "metadata": {},
   "source": [
    "Det er også mulig å identifisere nedlagte organisasjoner med kolonnnen `ErAktiv`."
   ]
  },
  {
   "cell_type": "code",
   "execution_count": 9,
   "metadata": {},
   "outputs": [
    {
     "data": {
      "text/html": [
       "<div>\n",
       "<style scoped>\n",
       "    .dataframe tbody tr th:only-of-type {\n",
       "        vertical-align: middle;\n",
       "    }\n",
       "\n",
       "    .dataframe tbody tr th {\n",
       "        vertical-align: top;\n",
       "    }\n",
       "\n",
       "    .dataframe thead th {\n",
       "        text-align: right;\n",
       "    }\n",
       "</style>\n",
       "<table border=\"1\" class=\"dataframe\">\n",
       "  <thead>\n",
       "    <tr style=\"text-align: right;\">\n",
       "      <th>ErAktiv</th>\n",
       "      <th>False</th>\n",
       "      <th>True</th>\n",
       "    </tr>\n",
       "    <tr>\n",
       "      <th>Utgaattype_Navn</th>\n",
       "      <th></th>\n",
       "      <th></th>\n",
       "    </tr>\n",
       "  </thead>\n",
       "  <tbody>\n",
       "    <tr>\n",
       "      <th>Ingen utgåttype</th>\n",
       "      <td>37</td>\n",
       "      <td>862</td>\n",
       "    </tr>\n",
       "    <tr>\n",
       "      <th>Slettet</th>\n",
       "      <td>82</td>\n",
       "      <td>0</td>\n",
       "    </tr>\n",
       "  </tbody>\n",
       "</table>\n",
       "</div>"
      ],
      "text/plain": [
       "ErAktiv          False  True \n",
       "Utgaattype_Navn              \n",
       "Ingen utgåttype     37    862\n",
       "Slettet             82      0"
      ]
     },
     "execution_count": 9,
     "metadata": {},
     "output_type": "execute_result"
    }
   ],
   "source": [
    "pd.crosstab(nor.Utgaattype_Navn, nor.ErAktiv)"
   ]
  },
  {
   "cell_type": "markdown",
   "metadata": {},
   "source": [
    "##### Identifisere opplæringskontorene\n",
    "Det er ikke alle organisasjoner i NOR som er et opplæringskontor. 337 av organisasjonene er et opplæringskontor, 8 organisasjoner er eier av opplæringskontor.\n",
    "\n",
    "Merk at 632 organisasjoner er verken registrert som opplæringskontor eller eier av et opplæringskontor. Mange av disse er kommuner. \n"
   ]
  },
  {
   "cell_type": "code",
   "execution_count": 12,
   "metadata": {},
   "outputs": [
    {
     "data": {
      "text/html": [
       "<div>\n",
       "<style scoped>\n",
       "    .dataframe tbody tr th:only-of-type {\n",
       "        vertical-align: middle;\n",
       "    }\n",
       "\n",
       "    .dataframe tbody tr th {\n",
       "        vertical-align: top;\n",
       "    }\n",
       "\n",
       "    .dataframe thead th {\n",
       "        text-align: right;\n",
       "    }\n",
       "</style>\n",
       "<table border=\"1\" class=\"dataframe\">\n",
       "  <thead>\n",
       "    <tr style=\"text-align: right;\">\n",
       "      <th>ErOpplaeringskontor</th>\n",
       "      <th>False</th>\n",
       "      <th>True</th>\n",
       "    </tr>\n",
       "    <tr>\n",
       "      <th>ErOpplaeringskontorEier</th>\n",
       "      <th></th>\n",
       "      <th></th>\n",
       "    </tr>\n",
       "  </thead>\n",
       "  <tbody>\n",
       "    <tr>\n",
       "      <th>False</th>\n",
       "      <td>632</td>\n",
       "      <td>337</td>\n",
       "    </tr>\n",
       "    <tr>\n",
       "      <th>True</th>\n",
       "      <td>8</td>\n",
       "      <td>4</td>\n",
       "    </tr>\n",
       "  </tbody>\n",
       "</table>\n",
       "</div>"
      ],
      "text/plain": [
       "ErOpplaeringskontor      False  True \n",
       "ErOpplaeringskontorEier              \n",
       "False                      632    337\n",
       "True                         8      4"
      ]
     },
     "execution_count": 12,
     "metadata": {},
     "output_type": "execute_result"
    }
   ],
   "source": [
    "pd.crosstab(nor.ErOpplaeringskontorEier, nor.ErOpplaeringskontor)"
   ]
  },
  {
   "cell_type": "markdown",
   "metadata": {},
   "source": [
    "Opplæringskontorene er fordelt på forskjellige organisasjonsformer. Mange er registrert som forening/lag/innretning, mens andre er registrert som aksjeselskap, samvirkeforetak, mm. "
   ]
  },
  {
   "cell_type": "code",
   "execution_count": 13,
   "metadata": {},
   "outputs": [
    {
     "data": {
      "text/html": [
       "<div>\n",
       "<style scoped>\n",
       "    .dataframe tbody tr th:only-of-type {\n",
       "        vertical-align: middle;\n",
       "    }\n",
       "\n",
       "    .dataframe tbody tr th {\n",
       "        vertical-align: top;\n",
       "    }\n",
       "\n",
       "    .dataframe thead th {\n",
       "        text-align: right;\n",
       "    }\n",
       "</style>\n",
       "<table border=\"1\" class=\"dataframe\">\n",
       "  <thead>\n",
       "    <tr style=\"text-align: right;\">\n",
       "      <th>ErOpplaeringskontor</th>\n",
       "      <th>False</th>\n",
       "      <th>True</th>\n",
       "    </tr>\n",
       "    <tr>\n",
       "      <th>Organisasjonsform_Navn</th>\n",
       "      <th></th>\n",
       "      <th></th>\n",
       "    </tr>\n",
       "  </thead>\n",
       "  <tbody>\n",
       "    <tr>\n",
       "      <th>Aksjeselskap</th>\n",
       "      <td>15</td>\n",
       "      <td>43</td>\n",
       "    </tr>\n",
       "    <tr>\n",
       "      <th>Annen juridisk person</th>\n",
       "      <td>6</td>\n",
       "      <td>0</td>\n",
       "    </tr>\n",
       "    <tr>\n",
       "      <th>Annet foretak iflg. særskilt lov</th>\n",
       "      <td>2</td>\n",
       "      <td>3</td>\n",
       "    </tr>\n",
       "    <tr>\n",
       "      <th>Bedrift</th>\n",
       "      <td>17</td>\n",
       "      <td>13</td>\n",
       "    </tr>\n",
       "    <tr>\n",
       "      <th>Enkeltpersonforetak</th>\n",
       "      <td>1</td>\n",
       "      <td>0</td>\n",
       "    </tr>\n",
       "    <tr>\n",
       "      <th>Forening/lag/innretning</th>\n",
       "      <td>35</td>\n",
       "      <td>222</td>\n",
       "    </tr>\n",
       "    <tr>\n",
       "      <th>Fylkeskommune</th>\n",
       "      <td>28</td>\n",
       "      <td>0</td>\n",
       "    </tr>\n",
       "    <tr>\n",
       "      <th>Ingen enhetstype</th>\n",
       "      <td>2</td>\n",
       "      <td>0</td>\n",
       "    </tr>\n",
       "    <tr>\n",
       "      <th>Interkommunalt selskap</th>\n",
       "      <td>1</td>\n",
       "      <td>0</td>\n",
       "    </tr>\n",
       "    <tr>\n",
       "      <th>Kommune</th>\n",
       "      <td>471</td>\n",
       "      <td>3</td>\n",
       "    </tr>\n",
       "    <tr>\n",
       "      <th>Organisasjonsledd</th>\n",
       "      <td>34</td>\n",
       "      <td>3</td>\n",
       "    </tr>\n",
       "    <tr>\n",
       "      <th>Samvirkeforetak</th>\n",
       "      <td>1</td>\n",
       "      <td>34</td>\n",
       "    </tr>\n",
       "    <tr>\n",
       "      <th>Selskap med begrenset ansvar</th>\n",
       "      <td>1</td>\n",
       "      <td>1</td>\n",
       "    </tr>\n",
       "    <tr>\n",
       "      <th>Staten</th>\n",
       "      <td>22</td>\n",
       "      <td>0</td>\n",
       "    </tr>\n",
       "    <tr>\n",
       "      <th>Stiftelse</th>\n",
       "      <td>4</td>\n",
       "      <td>19</td>\n",
       "    </tr>\n",
       "  </tbody>\n",
       "</table>\n",
       "</div>"
      ],
      "text/plain": [
       "ErOpplaeringskontor               False  True \n",
       "Organisasjonsform_Navn                        \n",
       "Aksjeselskap                         15     43\n",
       "Annen juridisk person                 6      0\n",
       "Annet foretak iflg. særskilt lov      2      3\n",
       "Bedrift                              17     13\n",
       "Enkeltpersonforetak                   1      0\n",
       "Forening/lag/innretning              35    222\n",
       "Fylkeskommune                        28      0\n",
       "Ingen enhetstype                      2      0\n",
       "Interkommunalt selskap                1      0\n",
       "Kommune                             471      3\n",
       "Organisasjonsledd                    34      3\n",
       "Samvirkeforetak                       1     34\n",
       "Selskap med begrenset ansvar          1      1\n",
       "Staten                               22      0\n",
       "Stiftelse                             4     19"
      ]
     },
     "execution_count": 13,
     "metadata": {},
     "output_type": "execute_result"
    }
   ],
   "source": [
    "pd.crosstab(nor.Organisasjonsform_Navn, nor.ErOpplaeringskontor)\n"
   ]
  }
 ],
 "metadata": {
  "kernelspec": {
   "display_name": "Python 3.10.6 ('.venv': venv)",
   "language": "python",
   "name": "python3"
  },
  "language_info": {
   "codemirror_mode": {
    "name": "ipython",
    "version": 3
   },
   "file_extension": ".py",
   "mimetype": "text/x-python",
   "name": "python",
   "nbconvert_exporter": "python",
   "pygments_lexer": "ipython3",
   "version": "3.10.6"
  },
  "orig_nbformat": 4,
  "vscode": {
   "interpreter": {
    "hash": "50ab3efaf88314556cb4aaea901d64c019e2c7726279e581a5d216ab2124ab53"
   }
  }
 },
 "nbformat": 4,
 "nbformat_minor": 2
}
